{
 "cells": [
  {
   "cell_type": "code",
   "execution_count": 8,
   "id": "d9b8618d",
   "metadata": {},
   "outputs": [],
   "source": [
    "from sklearn.model_selection import train_test_split\n",
    "import pandas as pd"
   ]
  },
  {
   "cell_type": "code",
   "execution_count": 9,
   "id": "912b7579",
   "metadata": {},
   "outputs": [],
   "source": [
    "df_lencoder = pd.read_csv(\"../dataset/df_lencoder.csv\")"
   ]
  },
  {
   "cell_type": "code",
   "execution_count": 10,
   "id": "7e33d85b",
   "metadata": {},
   "outputs": [],
   "source": [
    "x = df_lencoder.drop(columns=\"species\")\n",
    "y= df_lencoder[\"species\"]\n",
    "\n",
    "x_train, x_test, y_train, y_test = train_test_split(x,y, test_size=0.2 , random_state=1)"
   ]
  },
  {
   "cell_type": "code",
   "execution_count": 12,
   "id": "9f34eb23",
   "metadata": {},
   "outputs": [
    {
     "name": "stdout",
     "output_type": "stream",
     "text": [
      "Jumlah data:  344\n",
      "Jumlah data latih:  275\n",
      "Jumlah data test:  69\n"
     ]
    }
   ],
   "source": [
    " # menghitung panjang/jumlah data \n",
    "print(\"Jumlah data: \",len(x))\n",
    "# menghitung panjang/jumlah data pada x_train\n",
    "print(\"Jumlah data latih: \",len(x_train))\n",
    "# menghitung panjang/jumlah data pada x_test\n",
    "print(\"Jumlah data test: \",len(x_test))"
   ]
  }
 ],
 "metadata": {
  "kernelspec": {
   "display_name": "Python 3",
   "language": "python",
   "name": "python3"
  },
  "language_info": {
   "codemirror_mode": {
    "name": "ipython",
    "version": 3
   },
   "file_extension": ".py",
   "mimetype": "text/x-python",
   "name": "python",
   "nbconvert_exporter": "python",
   "pygments_lexer": "ipython3",
   "version": "3.13.5"
  }
 },
 "nbformat": 4,
 "nbformat_minor": 5
}
