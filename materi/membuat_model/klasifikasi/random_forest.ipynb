{
 "cells": [
  {
   "cell_type": "code",
   "execution_count": 36,
   "id": "9da7c529",
   "metadata": {},
   "outputs": [],
   "source": [
    "import seaborn as sns\n",
    "import pandas as pd\n",
    "from sklearn.model_selection import train_test_split, cross_val_score\n",
    "from sklearn.preprocessing import LabelEncoder\n",
    "from sklearn.ensemble import RandomForestClassifier\n",
    "from sklearn.metrics import accuracy_score, confusion_matrix\n"
   ]
  },
  {
   "cell_type": "code",
   "execution_count": 37,
   "id": "dc97cfba",
   "metadata": {},
   "outputs": [],
   "source": [
    "df_lencoder = pd.read_csv(\"../../../dataset/df_lencoder.csv\")"
   ]
  },
  {
   "cell_type": "code",
   "execution_count": 38,
   "id": "610e0479",
   "metadata": {},
   "outputs": [
    {
     "data": {
      "text/html": [
       "<div>\n",
       "<style scoped>\n",
       "    .dataframe tbody tr th:only-of-type {\n",
       "        vertical-align: middle;\n",
       "    }\n",
       "\n",
       "    .dataframe tbody tr th {\n",
       "        vertical-align: top;\n",
       "    }\n",
       "\n",
       "    .dataframe thead th {\n",
       "        text-align: right;\n",
       "    }\n",
       "</style>\n",
       "<table border=\"1\" class=\"dataframe\">\n",
       "  <thead>\n",
       "    <tr style=\"text-align: right;\">\n",
       "      <th></th>\n",
       "      <th>species</th>\n",
       "      <th>island</th>\n",
       "      <th>bill_length_mm</th>\n",
       "      <th>bill_depth_mm</th>\n",
       "      <th>flipper_length_mm</th>\n",
       "      <th>body_mass_g</th>\n",
       "      <th>sex</th>\n",
       "    </tr>\n",
       "  </thead>\n",
       "  <tbody>\n",
       "    <tr>\n",
       "      <th>count</th>\n",
       "      <td>344.000000</td>\n",
       "      <td>344.000000</td>\n",
       "      <td>3.440000e+02</td>\n",
       "      <td>3.440000e+02</td>\n",
       "      <td>3.440000e+02</td>\n",
       "      <td>344.000000</td>\n",
       "      <td>344.000000</td>\n",
       "    </tr>\n",
       "    <tr>\n",
       "      <th>mean</th>\n",
       "      <td>0.918605</td>\n",
       "      <td>0.662791</td>\n",
       "      <td>-1.156697e-15</td>\n",
       "      <td>4.131062e-16</td>\n",
       "      <td>-7.849019e-16</td>\n",
       "      <td>0.000000</td>\n",
       "      <td>0.520349</td>\n",
       "    </tr>\n",
       "    <tr>\n",
       "      <th>std</th>\n",
       "      <td>0.893320</td>\n",
       "      <td>0.726194</td>\n",
       "      <td>1.001457e+00</td>\n",
       "      <td>1.001457e+00</td>\n",
       "      <td>1.001457e+00</td>\n",
       "      <td>1.001457</td>\n",
       "      <td>0.500313</td>\n",
       "    </tr>\n",
       "    <tr>\n",
       "      <th>min</th>\n",
       "      <td>0.000000</td>\n",
       "      <td>0.000000</td>\n",
       "      <td>-2.174858e+00</td>\n",
       "      <td>-2.060444e+00</td>\n",
       "      <td>-2.065333e+00</td>\n",
       "      <td>-1.880837</td>\n",
       "      <td>0.000000</td>\n",
       "    </tr>\n",
       "    <tr>\n",
       "      <th>25%</th>\n",
       "      <td>0.000000</td>\n",
       "      <td>0.000000</td>\n",
       "      <td>-8.548868e-01</td>\n",
       "      <td>-7.889322e-01</td>\n",
       "      <td>-7.796428e-01</td>\n",
       "      <td>-0.816275</td>\n",
       "      <td>0.000000</td>\n",
       "    </tr>\n",
       "    <tr>\n",
       "      <th>50%</th>\n",
       "      <td>1.000000</td>\n",
       "      <td>1.000000</td>\n",
       "      <td>6.035444e-02</td>\n",
       "      <td>7.569585e-02</td>\n",
       "      <td>-2.796522e-01</td>\n",
       "      <td>-0.190061</td>\n",
       "      <td>1.000000</td>\n",
       "    </tr>\n",
       "    <tr>\n",
       "      <th>75%</th>\n",
       "      <td>2.000000</td>\n",
       "      <td>1.000000</td>\n",
       "      <td>8.422188e-01</td>\n",
       "      <td>7.877425e-01</td>\n",
       "      <td>8.631834e-01</td>\n",
       "      <td>0.686637</td>\n",
       "      <td>1.000000</td>\n",
       "    </tr>\n",
       "    <tr>\n",
       "      <th>max</th>\n",
       "      <td>2.000000</td>\n",
       "      <td>2.000000</td>\n",
       "      <td>2.884265e+00</td>\n",
       "      <td>2.211836e+00</td>\n",
       "      <td>2.148873e+00</td>\n",
       "      <td>2.627899</td>\n",
       "      <td>1.000000</td>\n",
       "    </tr>\n",
       "  </tbody>\n",
       "</table>\n",
       "</div>"
      ],
      "text/plain": [
       "          species      island  bill_length_mm  bill_depth_mm  \\\n",
       "count  344.000000  344.000000    3.440000e+02   3.440000e+02   \n",
       "mean     0.918605    0.662791   -1.156697e-15   4.131062e-16   \n",
       "std      0.893320    0.726194    1.001457e+00   1.001457e+00   \n",
       "min      0.000000    0.000000   -2.174858e+00  -2.060444e+00   \n",
       "25%      0.000000    0.000000   -8.548868e-01  -7.889322e-01   \n",
       "50%      1.000000    1.000000    6.035444e-02   7.569585e-02   \n",
       "75%      2.000000    1.000000    8.422188e-01   7.877425e-01   \n",
       "max      2.000000    2.000000    2.884265e+00   2.211836e+00   \n",
       "\n",
       "       flipper_length_mm  body_mass_g         sex  \n",
       "count       3.440000e+02   344.000000  344.000000  \n",
       "mean       -7.849019e-16     0.000000    0.520349  \n",
       "std         1.001457e+00     1.001457    0.500313  \n",
       "min        -2.065333e+00    -1.880837    0.000000  \n",
       "25%        -7.796428e-01    -0.816275    0.000000  \n",
       "50%        -2.796522e-01    -0.190061    1.000000  \n",
       "75%         8.631834e-01     0.686637    1.000000  \n",
       "max         2.148873e+00     2.627899    1.000000  "
      ]
     },
     "execution_count": 38,
     "metadata": {},
     "output_type": "execute_result"
    }
   ],
   "source": [
    "df_lencoder.describe(include=\"all\")"
   ]
  },
  {
   "cell_type": "code",
   "execution_count": 39,
   "id": "53d44b10",
   "metadata": {},
   "outputs": [],
   "source": [
    "X = df_lencoder[['bill_length_mm', 'bill_depth_mm', 'flipper_length_mm', 'body_mass_g']]\n",
    "y = df_lencoder['species']  # target classification\n",
    "\n",
    "X_train, X_test, y_train, y_test = train_test_split(\n",
    "    X, y, test_size=0.2, random_state=42\n",
    ")\n",
    "\n",
    "\n",
    "model = RandomForestClassifier(\n",
    "    n_estimators=200,     # jumlah pohon\n",
    "    max_depth=10,         # batasi kedalaman pohon\n",
    "    min_samples_leaf=2,   # minimal data di tiap daun\n",
    "    random_state=42\n",
    ")\n",
    "\n",
    "model.fit(X_train, y_train)\n",
    "\n",
    "y_pred = model.predict(X_test)\n"
   ]
  },
  {
   "cell_type": "code",
   "execution_count": 40,
   "id": "7dba1364",
   "metadata": {},
   "outputs": [
    {
     "name": "stdout",
     "output_type": "stream",
     "text": [
      "Akurasi: 0.94\n",
      "Confusion Matrix:\n",
      "[[30  1  1]\n",
      " [ 1 15  0]\n",
      " [ 0  1 20]]\n"
     ]
    }
   ],
   "source": [
    "# Akurasi\n",
    "acc = accuracy_score(y_test, y_pred)\n",
    "print(f\"Akurasi: {acc:.2f}\")  # misal: 0.96\n",
    "\n",
    "# Lihat confusion matrix\n",
    "cm = confusion_matrix(y_test, y_pred)\n",
    "print(\"Confusion Matrix:\")\n",
    "print(cm)"
   ]
  },
  {
   "cell_type": "code",
   "execution_count": 41,
   "id": "5f2f6be4",
   "metadata": {},
   "outputs": [
    {
     "name": "stdout",
     "output_type": "stream",
     "text": [
      "Rata-rata akurasi cross-validation: 0.98\n"
     ]
    }
   ],
   "source": [
    "scores = cross_val_score(model, X, y, cv=5)\n",
    "print(f\"Rata-rata akurasi cross-validation: {scores.mean():.2f}\")\n"
   ]
  }
 ],
 "metadata": {
  "kernelspec": {
   "display_name": "Python 3",
   "language": "python",
   "name": "python3"
  },
  "language_info": {
   "codemirror_mode": {
    "name": "ipython",
    "version": 3
   },
   "file_extension": ".py",
   "mimetype": "text/x-python",
   "name": "python",
   "nbconvert_exporter": "python",
   "pygments_lexer": "ipython3",
   "version": "3.13.5"
  }
 },
 "nbformat": 4,
 "nbformat_minor": 5
}
